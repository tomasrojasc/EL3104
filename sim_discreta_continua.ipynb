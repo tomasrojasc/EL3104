{
 "cells": [
  {
   "cell_type": "code",
   "execution_count": null,
   "metadata": {
    "ExecuteTime": {
     "end_time": "2022-03-13T01:21:37.781829Z",
     "start_time": "2022-03-13T01:21:35.777311Z"
    }
   },
   "outputs": [],
   "source": [
    "# imports\n",
    "import numpy as np\n",
    "import matplotlib.pyplot as plt"
   ]
  },
  {
   "cell_type": "markdown",
   "metadata": {
    "id": "wQIpuGqyKi-6"
   },
   "source": [
    "# Unidad I: Ejemplos Simulacion Experimentos Discretos"
   ]
  },
  {
   "cell_type": "markdown",
   "metadata": {
    "id": "1K7BXAGgI5NF"
   },
   "source": [
    "**Exemplo 1:**\n",
    "Experimento de lanzar un dado $n$-veces. Para ello, cada realización del experimento la denotamos por $X_i\\in \\Omega =\\left\\{1,..,6 \\right\\}$, donde $\\Omega$ es el **espacio muestreal**. _Propuesto_"
   ]
  },
  {
   "cell_type": "code",
   "execution_count": null,
   "metadata": {
    "id": "IPsqOl6gIv9N"
   },
   "outputs": [],
   "source": []
  },
  {
   "cell_type": "markdown",
   "metadata": {
    "id": "TWKhWwBsLNqV"
   },
   "source": [
    "**Ejemplo 2:** Simular el lanzamiento independiente de $n$-monedas. Paar ello, cada ejeccución se denota por $X_i\\in \\Omega$  donde $\\Omega=\\left\\{0,1\\right\\}$ es el conjunto **binario**.  Consideramos el caso equilbrado donde $p(0)=0.5$ y $p(1)=0.5$"
   ]
  },
  {
   "cell_type": "markdown",
   "metadata": {
    "id": "CmvJ999iW0zv"
   },
   "source": [
    "i) Simulacion de una tirada $X_1,..,X_N$"
   ]
  },
  {
   "cell_type": "code",
   "execution_count": null,
   "metadata": {
    "ExecuteTime": {
     "end_time": "2022-03-13T01:21:38.638256Z",
     "start_time": "2022-03-13T01:21:38.587085Z"
    },
    "colab": {
     "base_uri": "https://localhost:8080/"
    },
    "id": "y2fujgO1MCNp",
    "outputId": "7a1a17f2-fe1f-4837-873e-50704bb32301"
   },
   "outputs": [],
   "source": [
    "#--------------------------------------------------\n",
    "\n",
    "coin = np.array(['Heads', 'Tails'])\n",
    "\n",
    "N = 10000 # number of realizarions\n",
    "#1. generar las $N$ realizaciones del experimento\n",
    "tosses = np.random.choice(coin, N)\n",
    "tosses[0:100]"
   ]
  },
  {
   "cell_type": "code",
   "execution_count": null,
   "metadata": {
    "ExecuteTime": {
     "end_time": "2022-03-13T01:21:40.116522Z",
     "start_time": "2022-03-13T01:21:39.365661Z"
    },
    "colab": {
     "base_uri": "https://localhost:8080/"
    },
    "id": "kX5o57gosTYy",
    "outputId": "971116f7-bc41-4ca5-a1ae-f3e1ee8b291c"
   },
   "outputs": [],
   "source": [
    "#2. contar el numero de \"heads\"\n",
    "head_counts= np.count_nonzero(tosses == 'Heads')\n",
    "print(\"el numero de caras es: \",head_counts, \"y la frecuencia es:\", head_counts/N)\n",
    "print(\"el numero de sellos es\",N-head_counts, \"y la frecuencia es:\", (N-head_counts)/N)\n",
    "plt.hist(tosses, density=True, bins=[0,1,2], align=\"left\", rwidth=0.5);"
   ]
  },
  {
   "cell_type": "markdown",
   "metadata": {
    "id": "Y337wWO5OUcC"
   },
   "source": [
    "**ii) Convergiendo a la Ley $p=0.5$**\n",
    "\n",
    "---\n",
    "\n",
    "Ahora veamos el efecto de aumentar la cantidad de datos $N$. Consideraremos para ello 4 escenarios: \n",
    "\n",
    "1.   $N=10^2$;$N=10^3$;$N=10^4$; y $N=10^5$  \n",
    "2.   Para cada secuencia $X_1,..,X_N$ calculamos $\\frac{1}{n}\\sum_{i=1}^N 1_{\\left\\{ head\\right\\}}(X_i)$ (frecuencia de ocurrencia de \"head\" en $X_1,..,X_N$)\n",
    "1.   Repetimos el punto anterior $1.000$ (variable N_iteration) veces y  mostramos como cambia este valor en cada una de los $1.000$ instancias y esto como funcion del valor de $N$."
   ]
  },
  {
   "cell_type": "code",
   "execution_count": null,
   "metadata": {
    "ExecuteTime": {
     "end_time": "2022-03-13T01:21:50.132122Z",
     "start_time": "2022-03-13T01:21:40.988410Z"
    },
    "colab": {
     "base_uri": "https://localhost:8080/",
     "height": 296
    },
    "id": "kYNN7TEFYHLa",
    "outputId": "c4def023-b1a3-46fa-a58a-4cbb2f6ac92d"
   },
   "outputs": [],
   "source": [
    "m = 2\n",
    "N = 10**(m+2)\n",
    "\n",
    "#numero de repeticiones del experimento para un $N$ dado\n",
    "N_iterations=1000\n",
    "sequence_id = np.arange(N_iterations)\n",
    "z = {}\n",
    "\n",
    "#main loop: asociado al largo de $N$\n",
    "for m in np.arange(4,dtype=int):\n",
    "    N=10**(m+2)\n",
    "    z[str(N)]=np.zeros(N_iterations)\n",
    "    #main for: \n",
    "    for i in sequence_id: \n",
    "        #1. simular la ejecucion de los $n$ lanzamientos independientes $X_1,..,X_n$\n",
    "        outcomes = np.random.choice(coin, N)\n",
    "        #2. contar los \"heads\" en $X_1,..,X_n$\n",
    "        num_heads = np.count_nonzero(outcomes == 'Heads')\n",
    "        #3. contar los \"tails\" en $X_1,..,X_n$\n",
    "        num_heads_tails= N - num_heads\n",
    "\n",
    "        #almacenar la informacion en un arreglo de 1.000 puntos. \n",
    "        z[str(N)][i]= num_heads\n",
    "        \n",
    "# The simulation is done!\n"
   ]
  },
  {
   "cell_type": "code",
   "execution_count": null,
   "metadata": {
    "ExecuteTime": {
     "end_time": "2022-03-13T01:21:51.073040Z",
     "start_time": "2022-03-13T01:21:50.165535Z"
    }
   },
   "outputs": [],
   "source": [
    "plt.plot(sequence_id,z[\"100\"]/N, label='samples N=100')\n",
    "plt.legend()\n",
    "plt.xlabel('iteración')\n",
    "plt.ylabel('number of heads')\n",
    "plt.title(\"Observando la Convergencia a la ley p=0.5\")"
   ]
  },
  {
   "cell_type": "code",
   "execution_count": null,
   "metadata": {
    "ExecuteTime": {
     "end_time": "2022-03-13T01:21:52.033109Z",
     "start_time": "2022-03-13T01:21:51.106694Z"
    },
    "colab": {
     "base_uri": "https://localhost:8080/",
     "height": 232
    },
    "id": "cCCzakrbZAWG",
    "outputId": "3030e286-f4cc-4332-99b7-c3ba3e47d4ea"
   },
   "outputs": [],
   "source": [
    "#histograma de valores.....\n",
    "plt.hist(z[\"100\"]/100, 30);\n",
    "#plt.hist(z[\"100\"]/100, 20);\n",
    "#plt.hist(z[\"100\"]/100, 40);\n",
    "#plt.hist(z[\"100\"]/100, 80);"
   ]
  },
  {
   "cell_type": "code",
   "execution_count": null,
   "metadata": {
    "ExecuteTime": {
     "end_time": "2022-03-13T01:21:53.427827Z",
     "start_time": "2022-03-13T01:21:52.092763Z"
    }
   },
   "outputs": [],
   "source": [
    "for m in np.arange(4,dtype=int):\n",
    "    N=10**(m+2)\n",
    "    plt.plot(sequence_id,z[str(N)]/N, label='samples N='+ str(N))\n",
    "    plt.legend()\n",
    "    plt.xlabel('iteración')\n",
    "    plt.ylabel('number of heads')\n",
    "    plt.title(\"Observando la Convergencia a la ley p=0.5\")"
   ]
  },
  {
   "cell_type": "code",
   "execution_count": null,
   "metadata": {
    "ExecuteTime": {
     "end_time": "2022-03-13T01:21:55.301034Z",
     "start_time": "2022-03-13T01:21:53.476226Z"
    }
   },
   "outputs": [],
   "source": [
    "# histogramas\n",
    "for n, x in z.items():\n",
    "    plt.hist(x/int(n), label='samples N='+ n)\n",
    "    plt.legend()\n",
    "    plt.xlabel('proporción heads')\n",
    "    plt.ylabel('frecuencia de la proporción')\n",
    "    plt.title(\"Observando la Convergencia a la ley p=0.5\")"
   ]
  },
  {
   "cell_type": "markdown",
   "metadata": {
    "id": "S32KN_y_WNyg"
   },
   "source": [
    "# Unidad I: Ejemplo Simulacion Experimento Continuo"
   ]
  },
  {
   "cell_type": "markdown",
   "metadata": {
    "id": "aLRbZUGUWY1B"
   },
   "source": [
    "**Ejemplo 1:** Distribucion uniforme en $[0,1]$\n",
    "\n",
    "**i)** Generación de las muestras $X_1,..,X_n$"
   ]
  },
  {
   "cell_type": "code",
   "execution_count": null,
   "metadata": {
    "ExecuteTime": {
     "end_time": "2022-03-13T01:21:55.516933Z",
     "start_time": "2022-03-13T01:21:55.368081Z"
    },
    "colab": {
     "base_uri": "https://localhost:8080/"
    },
    "id": "WAUV4b9mSmly",
    "outputId": "b8c73eb8-a38a-49c1-8cec-d2ca46854bbf"
   },
   "outputs": [],
   "source": [
    "#CREATING THE EMPIRICAL DATA -------------------\n",
    "import numpy as np\n",
    "import matplotlib.pyplot as plt\n",
    "from numpy.random import rand\n",
    "\n",
    "M=10000\n",
    "uniform=rand(M,1)\n",
    "index = np.linspace(1, M, M)\n",
    "uniform[0:20]\n"
   ]
  },
  {
   "cell_type": "code",
   "execution_count": null,
   "metadata": {
    "ExecuteTime": {
     "end_time": "2022-03-13T01:21:56.457050Z",
     "start_time": "2022-03-13T01:21:55.597377Z"
    },
    "colab": {
     "base_uri": "https://localhost:8080/",
     "height": 316
    },
    "id": "k_EGC4ZytTYN",
    "outputId": "15c1b227-ebed-40c7-c9ff-f62aa7b9795c"
   },
   "outputs": [],
   "source": [
    "# Desplegar los datos.......\n",
    "#plt.plot(index,uniform, label='samples original')\n",
    "plt.plot(index[0:100],uniform[0:100], label='samples original')\n",
    "plt.legend()\n",
    "plt.xlabel('index')\n",
    "plt.ylabel('value')\n",
    "plt.title(\"Random Samples\")"
   ]
  },
  {
   "cell_type": "markdown",
   "metadata": {
    "id": "i0YP9FYgW3b8"
   },
   "source": [
    "**ii)** Calculo de Frecuencias en Sub-intervalos de $[0,1]$"
   ]
  },
  {
   "cell_type": "code",
   "execution_count": null,
   "metadata": {
    "ExecuteTime": {
     "end_time": "2022-03-13T01:21:57.426109Z",
     "start_time": "2022-03-13T01:21:56.502271Z"
    },
    "id": "XCoB8E8ZWLGC"
   },
   "outputs": [],
   "source": [
    "K=4 # Numero de Intervalos \n",
    "#hist, bin_edges = np.histogram(uniform,M)\n",
    "plt.style.use('ggplot')\n",
    "plt.hist(uniform,K)"
   ]
  },
  {
   "cell_type": "markdown",
   "metadata": {
    "id": "TqcxgobnYOrY"
   },
   "source": [
    "**iii)** Calculo de Frecuencias en Sub-intervalos (Resolucion 2) \n",
    "1.   $A^2_1=[0,0.25]$     \n",
    "2.   $A^2_2=(0.25,0.5]$\n",
    "1.   $A^2_3=(0.5,0.75]$\n",
    "2.   $A^2_4=(0.25,1]$"
   ]
  },
  {
   "cell_type": "code",
   "execution_count": null,
   "metadata": {
    "ExecuteTime": {
     "end_time": "2022-03-13T01:21:57.477514Z",
     "start_time": "2022-03-13T01:21:57.432228Z"
    },
    "id": "o_WGoIHxZQUX"
   },
   "outputs": [],
   "source": [
    "def indicator(x):\n",
    "    L=len(x)\n",
    "    truncated=np.zeros(L)\n",
    "\n",
    "    #Codificar los valores de $x[i]$\n",
    "    for i in range(L):\n",
    "        if x[i] <= 0.25:\n",
    "            truncated[i]=1\n",
    "        elif x[i] > 0.25 and x[i] <=0.5:\n",
    "            truncated[i]=2\n",
    "        elif x[i] > 0.5 and x[i] <=0.75:\n",
    "            truncated[i]=3\n",
    "        else: \n",
    "            truncated[i]=4\n",
    "\n",
    "    return truncated  "
   ]
  },
  {
   "cell_type": "markdown",
   "metadata": {
    "id": "s6EozHzDfFp4"
   },
   "source": [
    "Generar la secuencia discreta $U_j=1\\cdot 1_{[0,0.25]}(X_j)+ 2\\cdot 1_{(0.25,0.5]}(X_j) + 3\\cdot 1_{(0.5,0.75]}(X_j) + 4\\cdot 1_{(0.75,1]}(X_j)$"
   ]
  },
  {
   "cell_type": "code",
   "execution_count": null,
   "metadata": {
    "ExecuteTime": {
     "end_time": "2022-03-13T01:21:58.956647Z",
     "start_time": "2022-03-13T01:21:57.492178Z"
    },
    "colab": {
     "base_uri": "https://localhost:8080/",
     "height": 282
    },
    "id": "xo3Am4bKbFeE",
    "outputId": "a7da3452-b8aa-4609-dd6e-865e183ac0df"
   },
   "outputs": [],
   "source": [
    "id_sequence=indicator(uniform)\n",
    "index = np.linspace(1, M, M)\n",
    "plt.plot(index[0:100],id_sequence[0:100], label='id')"
   ]
  },
  {
   "cell_type": "markdown",
   "metadata": {
    "id": "0wUKb1Q7gAT5"
   },
   "source": [
    "Calculo de la frecuencias: \n",
    "1.   $n(A^2_1)=\\frac{1}{n} \\sum_{i=1}^n 1_{A^2_1}(X_i)$\n",
    "1.   $n(A^2_2)=\\frac{1}{n} \\sum_{i=1}^n 1_{A^2_2}(X_i)$\n",
    "2.   $n(A^2_3)=\\frac{1}{n} \\sum_{i=1}^n 1_{A^2_3}(X_i)$\n",
    "2.   $n(A^2_4)=\\frac{1}{n} \\sum_{i=1}^n 1_{A^2_4}(X_i)$\n",
    "\n"
   ]
  },
  {
   "cell_type": "code",
   "execution_count": null,
   "metadata": {
    "ExecuteTime": {
     "end_time": "2022-03-13T01:21:59.054503Z",
     "start_time": "2022-03-13T01:21:59.002112Z"
    },
    "colab": {
     "base_uri": "https://localhost:8080/"
    },
    "id": "5PEyi0A1f_YI",
    "outputId": "6e0345c7-1741-4138-accb-784b22063a05"
   },
   "outputs": [],
   "source": [
    "#contar el numero de heads ---------\n",
    "counts_1= np.count_nonzero(id_sequence == 1) \n",
    "counts_2= np.count_nonzero(id_sequence == 2) \n",
    "counts_3= np.count_nonzero(id_sequence == 3) \n",
    "counts_4= np.count_nonzero(id_sequence == 4) \n",
    "print(\"n(A^2_1) es\", counts_1/M)\n",
    "print(\"n(A^2_2) es\", counts_2/M)\n",
    "print(\"n(A^2_3) es\", counts_3/M)\n",
    "print(\"n(A^2_4) es\", counts_4/M)"
   ]
  },
  {
   "cell_type": "markdown",
   "metadata": {
    "id": "oKgbBwgbkeF8"
   },
   "source": [
    "iii) Analisis de convergencia de la Frecuencia de $A^2_1$ a 0.25"
   ]
  },
  {
   "cell_type": "code",
   "execution_count": null,
   "metadata": {
    "ExecuteTime": {
     "end_time": "2022-03-13T01:22:01.610801Z",
     "start_time": "2022-03-13T01:21:59.101102Z"
    },
    "colab": {
     "base_uri": "https://localhost:8080/",
     "height": 322
    },
    "id": "0SzAZlRniW6L",
    "outputId": "1a9a4292-54c1-41c2-9bb4-b13c81bad6dd"
   },
   "outputs": [],
   "source": [
    "m = np.linspace(1, M, 100,dtype=int)\n",
    "L=len(m)\n",
    "counts_longitudinal=np.zeros(L)\n",
    "\n",
    "#main iteration.....\n",
    "for i in range(L): \n",
    "    counts_longitudinal[i] = np.count_nonzero(id_sequence[0:m[i]] == 1)/m[i]\n",
    "    #print(\"frecuencia largo \",m[i], \" es \", counts_longitudinal[i])\n",
    "\n",
    "#Graficar valores........\n",
    "index = np.linspace(1, L, L)*100\n",
    "plt.plot(index,counts_longitudinal, label='frecuencias')\n",
    "plt.legend()\n",
    "plt.xlabel('numero muestras')\n",
    "plt.ylabel('frecuencia')\n",
    "plt.title(\"Analisis Longitudinal de $n(A^2_1)$\")"
   ]
  }
 ],
 "metadata": {
  "colab": {
   "collapsed_sections": [
    "S32KN_y_WNyg"
   ],
   "name": "el3104-unidad-I.ipynb",
   "provenance": []
  },
  "hide_input": false,
  "kernelspec": {
   "display_name": "Python 3",
   "language": "python",
   "name": "python3"
  },
  "language_info": {
   "codemirror_mode": {
    "name": "ipython",
    "version": 3
   },
   "file_extension": ".py",
   "mimetype": "text/x-python",
   "name": "python",
   "nbconvert_exporter": "python",
   "pygments_lexer": "ipython3",
   "version": "3.8.8"
  },
  "toc": {
   "base_numbering": 1,
   "nav_menu": {},
   "number_sections": true,
   "sideBar": true,
   "skip_h1_title": false,
   "title_cell": "Table of Contents",
   "title_sidebar": "Contents",
   "toc_cell": false,
   "toc_position": {},
   "toc_section_display": true,
   "toc_window_display": false
  }
 },
 "nbformat": 4,
 "nbformat_minor": 1
}
