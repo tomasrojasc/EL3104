{
 "cells": [
  {
   "cell_type": "code",
   "execution_count": null,
   "metadata": {
    "ExecuteTime": {
     "end_time": "2022-03-30T00:48:50.268915Z",
     "start_time": "2022-03-30T00:48:50.256967Z"
    }
   },
   "outputs": [],
   "source": [
    "import numpy as np\n",
    "from itertools import groupby\n",
    "import random"
   ]
  },
  {
   "cell_type": "code",
   "execution_count": null,
   "metadata": {
    "ExecuteTime": {
     "end_time": "2022-03-30T00:48:50.504243Z",
     "start_time": "2022-03-30T00:48:50.478303Z"
    }
   },
   "outputs": [],
   "source": [
    "bolitas = 5 * [\"roja\"] + 6 * [\"azul\"] + 8 * [\"verde\"]"
   ]
  },
  {
   "cell_type": "code",
   "execution_count": null,
   "metadata": {
    "ExecuteTime": {
     "end_time": "2022-03-30T00:48:50.720555Z",
     "start_time": "2022-03-30T00:48:50.703941Z"
    }
   },
   "outputs": [],
   "source": [
    "def all_equal(iterable):\n",
    "    g = groupby(iterable)\n",
    "    return next(g, True) and not next(g, False)\n",
    "\n",
    "def sacar_con_rep_exp(bolitas):\n",
    "    n = len(bolitas)\n",
    "    a, b, c = random.randrange(n), random.randrange(n), random.randrange(n)\n",
    "    return bolitas[a], bolitas[b], bolitas[c]\n",
    "\n",
    "def sacar_sin_rep_exp(bolitas):\n",
    "    bolitas_ = bolitas.copy()\n",
    "    \n",
    "    sacadas = []\n",
    "    for _ in range(3):\n",
    "        idx = random.randrange(len(bolitas_))\n",
    "        sacadas.append(bolitas_[idx])\n",
    "        bolitas_.pop(idx)\n",
    "    \n",
    "    return sacadas\n"
   ]
  },
  {
   "cell_type": "code",
   "execution_count": null,
   "metadata": {
    "ExecuteTime": {
     "end_time": "2022-03-30T00:48:51.143427Z",
     "start_time": "2022-03-30T00:48:50.876347Z"
    }
   },
   "outputs": [],
   "source": [
    "resultados_sr = []  # resultados sin reposición\n",
    "resultados_cr = []  # resultados con reposición\n",
    "num_exp = 10000  # número de experimentos a hacer\n",
    "for i in range(num_exp):\n",
    "    resultados_cr.append(sacar_con_rep_exp(bolitas))\n",
    "    resultados_sr.append(sacar_sin_rep_exp(bolitas))"
   ]
  },
  {
   "cell_type": "code",
   "execution_count": null,
   "metadata": {
    "ExecuteTime": {
     "end_time": "2022-03-30T00:48:51.290179Z",
     "start_time": "2022-03-30T00:48:51.205676Z"
    }
   },
   "outputs": [],
   "source": [
    "equal_cr = [all_equal(i) for i in resultados_cr]\n",
    "equal_sr = [all_equal(i) for i in resultados_sr]"
   ]
  },
  {
   "cell_type": "code",
   "execution_count": null,
   "metadata": {
    "ExecuteTime": {
     "end_time": "2022-03-30T00:49:41.696879Z",
     "start_time": "2022-03-30T00:49:41.683482Z"
    }
   },
   "outputs": [],
   "source": [
    "print(f\"la proporción de bolitas iguales con reposición es {np.sum(equal_cr) / num_exp} o {np.sum(equal_cr) * 100/ num_exp}%\")\n",
    "print(f\"la proporción de bolitas iguales sin reposición es {np.sum(equal_sr) / num_exp} o {np.sum(equal_sr) * 100/ num_exp}%\")"
   ]
  }
 ],
 "metadata": {
  "hide_input": false,
  "kernelspec": {
   "display_name": "Python 3",
   "language": "python",
   "name": "python3"
  },
  "language_info": {
   "codemirror_mode": {
    "name": "ipython",
    "version": 3
   },
   "file_extension": ".py",
   "mimetype": "text/x-python",
   "name": "python",
   "nbconvert_exporter": "python",
   "pygments_lexer": "ipython3",
   "version": "3.8.8"
  },
  "toc": {
   "base_numbering": 1,
   "nav_menu": {},
   "number_sections": true,
   "sideBar": true,
   "skip_h1_title": false,
   "title_cell": "Table of Contents",
   "title_sidebar": "Contents",
   "toc_cell": false,
   "toc_position": {},
   "toc_section_display": true,
   "toc_window_display": false
  }
 },
 "nbformat": 4,
 "nbformat_minor": 4
}
