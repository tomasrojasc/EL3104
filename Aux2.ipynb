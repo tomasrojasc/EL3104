{
 "cells": [
  {
   "cell_type": "code",
   "execution_count": null,
   "metadata": {
    "ExecuteTime": {
     "end_time": "2022-03-30T01:01:27.298671Z",
     "start_time": "2022-03-30T01:01:26.487915Z"
    }
   },
   "outputs": [],
   "source": [
    "import numpy as np\n",
    "from itertools import groupby\n",
    "import random"
   ]
  },
  {
   "cell_type": "markdown",
   "metadata": {},
   "source": [
    "El problema es que tenemos 5 bolitas rojas, 6 azules y 8 verdes y queremos ver las probabilidades de sacar 3 iguales con y sin reposición. Si calculamos antes de la simulación, para el caso con reposición, los eventos son independientes, por lo que tenemos que sacar 4 bolitas del mismo color es \n",
    "\n",
    "$$\n",
    "P(\\text{3 bolitas del mismo color})= P(\\text{3 azules})+ P(\\text{3 verdes})+ P(\\text{3 rojas})\n",
    "$$\n",
    "\n",
    "$$\n",
    "P(\\text{3 verdes}) = \\frac{8}{19}\\frac{8}{19}\\frac{8}{19}; \\quad P(\\text{3 rojas}) = \\frac{5}{19}\\frac{5}{19}\\frac{5}{19}; \\quad P(\\text{3 azules}) = \\frac{6}{19}\\frac{6}{19}\\frac{6}{19}; \\quad\n",
    "$$\n",
    "\n",
    "De esta manera \n",
    "\n",
    "$$\n",
    "P(\\text{3 bolitas del mismo color}) = \\frac{8}{19}\\frac{8}{19}\\frac{8}{19} + \\frac{5}{19}\\frac{5}{19}\\frac{5}{19} + \\frac{6}{19}\\frac{6}{19}\\frac{6}{19} \\approx 12.44\\%\n",
    "$$\n",
    "\n",
    "Por otro lado si tenemos sin reposición, la probabilidad de sacar 3 iguales sigue siendo la suma de sacar 3 de cada color, pero ese cálculo cambia, pues las probabilidades no son las mismas para cada lanzamiento, pero es importante notar que sí son lanzamientos independientes, esto pues como sé que la primera fue de un color y quiero saber cual es la prob de que la siguiente sea de un color determinado, solo hay que contar lo que queda en la bolsa y no hace falta tener en cuenta lo que saqué. De esta manera las probabilidades son\n",
    "\n",
    "$$\n",
    "P(\\text{3 verdes}) = \\frac{8}{19}\\frac{7}{18}\\frac{6}{17}; \\quad P(\\text{3 rojas}) = \\frac{5}{19}\\frac{4}{18}\\frac{3}{17}; \\quad P(\\text{3 azules}) = \\frac{6}{19}\\frac{5}{18}\\frac{4}{17}; \\quad\n",
    "$$\n",
    "\n",
    "\n",
    "$$\n",
    "\\frac{8}{19}\\frac{7}{18}\\frac{6}{17} +\\frac{5}{19}\\frac{4}{18}\\frac{3}{17}+ \\frac{6}{19}\\frac{5}{18}\\frac{4}{17} \\approx 8.88\\%\n",
    "$$"
   ]
  },
  {
   "cell_type": "code",
   "execution_count": null,
   "metadata": {
    "ExecuteTime": {
     "end_time": "2022-03-30T01:03:59.923777Z",
     "start_time": "2022-03-30T01:03:59.908962Z"
    }
   },
   "outputs": [],
   "source": [
    "bolitas = 5 * [\"roja\"] + 6 * [\"azul\"] + 8 * [\"verde\"]"
   ]
  },
  {
   "cell_type": "code",
   "execution_count": 35,
   "metadata": {
    "ExecuteTime": {
     "end_time": "2022-03-30T01:44:17.797448Z",
     "start_time": "2022-03-30T01:44:17.769701Z"
    }
   },
   "outputs": [],
   "source": [
    "def all_equal(iterable):\n",
    "    g = groupby(iterable)\n",
    "    return next(g, True) and not next(g, False)\n",
    "\n",
    "def all_unique(item):\n",
    "    return len(set(item)) == len(item)\n",
    "\n",
    "def sacar_con_rep_exp(bolitas):\n",
    "    n = len(bolitas)\n",
    "    a, b, c = random.randrange(n), random.randrange(n), random.randrange(n)\n",
    "    return bolitas[a], bolitas[b], bolitas[c]\n",
    "\n",
    "def sacar_sin_rep_exp(bolitas):\n",
    "    bolitas_ = bolitas.copy()\n",
    "    \n",
    "    sacadas = []\n",
    "    for _ in range(3):\n",
    "        idx = random.randrange(len(bolitas_))\n",
    "        sacadas.append(bolitas_[idx])\n",
    "        bolitas_.pop(idx)\n",
    "    \n",
    "    return sacadas\n"
   ]
  },
  {
   "cell_type": "code",
   "execution_count": 36,
   "metadata": {
    "ExecuteTime": {
     "end_time": "2022-03-30T01:44:19.933106Z",
     "start_time": "2022-03-30T01:44:19.735084Z"
    }
   },
   "outputs": [],
   "source": [
    "resultados_sr = []  # resultados sin reposición\n",
    "resultados_cr = []  # resultados con reposición\n",
    "num_exp = 10000  # número de experimentos a hacer\n",
    "for i in range(num_exp):\n",
    "    resultados_cr.append(sacar_con_rep_exp(bolitas))\n",
    "    resultados_sr.append(sacar_sin_rep_exp(bolitas))"
   ]
  },
  {
   "cell_type": "code",
   "execution_count": 39,
   "metadata": {
    "ExecuteTime": {
     "end_time": "2022-03-30T01:45:20.486999Z",
     "start_time": "2022-03-30T01:45:20.437906Z"
    }
   },
   "outputs": [],
   "source": [
    "equal_cr = [all_equal(i) for i in resultados_cr]\n",
    "equal_sr = [all_equal(i) for i in resultados_sr]\n",
    "\n",
    "dif_cr = [all_unique(i) for i in resultados_cr]\n",
    "dif_sr = [all_unique(i) for i in resultados_sr]"
   ]
  },
  {
   "cell_type": "code",
   "execution_count": 40,
   "metadata": {
    "ExecuteTime": {
     "end_time": "2022-03-30T01:45:59.398774Z",
     "start_time": "2022-03-30T01:45:59.385892Z"
    }
   },
   "outputs": [
    {
     "name": "stdout",
     "output_type": "stream",
     "text": [
      "la proporción de bolitas iguales con reposición es 0.1212 o 12.12%\n",
      "la proporción de bolitas iguales sin reposición es 0.0911 o 9.11%\n"
     ]
    }
   ],
   "source": [
    "print(f\"la proporción de bolitas iguales con reposición es {np.sum(equal_cr) / num_exp} o {np.sum(equal_cr) * 100/ num_exp}%\")\n",
    "print(f\"la proporción de bolitas iguales sin reposición es {np.sum(equal_sr) / num_exp} o {np.sum(equal_sr) * 100/ num_exp}%\")"
   ]
  },
  {
   "cell_type": "code",
   "execution_count": 41,
   "metadata": {
    "ExecuteTime": {
     "end_time": "2022-03-30T01:45:59.865473Z",
     "start_time": "2022-03-30T01:45:59.844501Z"
    }
   },
   "outputs": [
    {
     "name": "stdout",
     "output_type": "stream",
     "text": [
      "la proporción de bolitas distintas con reposición es 0.2119 o 21.19%\n",
      "la proporción de bolitas distintas sin reposición es 0.2475 o 24.75%\n"
     ]
    }
   ],
   "source": [
    "print(f\"la proporción de bolitas distintas con reposición es {np.sum(dif_cr) / num_exp} o {np.sum(dif_cr) * 100/ num_exp}%\")\n",
    "print(f\"la proporción de bolitas distintas sin reposición es {np.sum(dif_sr) / num_exp} o {np.sum(dif_sr) * 100/ num_exp}%\")"
   ]
  },
  {
   "cell_type": "code",
   "execution_count": null,
   "metadata": {},
   "outputs": [],
   "source": []
  }
 ],
 "metadata": {
  "hide_input": false,
  "kernelspec": {
   "display_name": "Python 3",
   "language": "python",
   "name": "python3"
  },
  "language_info": {
   "codemirror_mode": {
    "name": "ipython",
    "version": 3
   },
   "file_extension": ".py",
   "mimetype": "text/x-python",
   "name": "python",
   "nbconvert_exporter": "python",
   "pygments_lexer": "ipython3",
   "version": "3.8.8"
  },
  "toc": {
   "base_numbering": 1,
   "nav_menu": {},
   "number_sections": true,
   "sideBar": true,
   "skip_h1_title": false,
   "title_cell": "Table of Contents",
   "title_sidebar": "Contents",
   "toc_cell": false,
   "toc_position": {},
   "toc_section_display": true,
   "toc_window_display": false
  }
 },
 "nbformat": 4,
 "nbformat_minor": 4
}
