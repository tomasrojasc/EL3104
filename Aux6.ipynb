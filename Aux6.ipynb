{
 "cells": [
  {
   "cell_type": "code",
   "execution_count": 1,
   "metadata": {
    "ExecuteTime": {
     "end_time": "2022-04-18T06:22:46.238895Z",
     "start_time": "2022-04-18T06:22:44.990848Z"
    }
   },
   "outputs": [],
   "source": [
    "import numpy as np\n",
    "import matplotlib.pyplot as plt"
   ]
  },
  {
   "cell_type": "code",
   "execution_count": 15,
   "metadata": {
    "ExecuteTime": {
     "end_time": "2022-04-18T06:26:49.365208Z",
     "start_time": "2022-04-18T06:26:49.337866Z"
    }
   },
   "outputs": [],
   "source": [
    "def experimento():\n",
    "    p_se_quedo_dormido = 2/5.\n",
    "    se_quedo_dormido = np.random.binomial(1, p_se_quedo_dormido)\n",
    "    if se_quedo_dormido == 1:\n",
    "        p_tomo_micro = 2/5.\n",
    "        \n",
    "    else:\n",
    "        p_tomo_micro = 1/2.\n",
    "    \n",
    "    tomo_micro = np.random.binomial(1, p_tomo_micro)\n",
    "    return se_quedo_dormido, tomo_micro"
   ]
  },
  {
   "cell_type": "code",
   "execution_count": 39,
   "metadata": {
    "ExecuteTime": {
     "end_time": "2022-04-18T07:01:31.122495Z",
     "start_time": "2022-04-18T07:01:29.149376Z"
    }
   },
   "outputs": [],
   "source": [
    "experimentos = []\n",
    "for i in range(100000):\n",
    "    experimentos.append(experimento())"
   ]
  },
  {
   "cell_type": "code",
   "execution_count": 40,
   "metadata": {
    "ExecuteTime": {
     "end_time": "2022-04-18T07:01:32.033082Z",
     "start_time": "2022-04-18T07:01:31.917955Z"
    }
   },
   "outputs": [],
   "source": [
    "# dado que tomó micro, cual es la prob de que se haya quedado dormido\n",
    "tomo_micro = []\n",
    "for i in experimentos:\n",
    "    if i[1] == 1:\n",
    "        tomo_micro.append(i)"
   ]
  },
  {
   "cell_type": "code",
   "execution_count": 41,
   "metadata": {
    "ExecuteTime": {
     "end_time": "2022-04-18T07:01:32.728452Z",
     "start_time": "2022-04-18T07:01:32.667693Z"
    }
   },
   "outputs": [],
   "source": [
    "# se quedó dormido habiendo tomado micro\n",
    "dormido_micro = []\n",
    "for i in tomo_micro:\n",
    "    if i[0] == 1:\n",
    "        dormido_micro.append(i)"
   ]
  },
  {
   "cell_type": "code",
   "execution_count": 42,
   "metadata": {
    "ExecuteTime": {
     "end_time": "2022-04-18T07:01:33.217143Z",
     "start_time": "2022-04-18T07:01:33.186914Z"
    }
   },
   "outputs": [
    {
     "data": {
      "text/plain": [
       "0.3511028215749637"
      ]
     },
     "execution_count": 42,
     "metadata": {},
     "output_type": "execute_result"
    }
   ],
   "source": [
    "len(dormido_micro)/len(tomo_micro)"
   ]
  }
 ],
 "metadata": {
  "hide_input": false,
  "kernelspec": {
   "display_name": "Python 3",
   "language": "python",
   "name": "python3"
  },
  "language_info": {
   "codemirror_mode": {
    "name": "ipython",
    "version": 3
   },
   "file_extension": ".py",
   "mimetype": "text/x-python",
   "name": "python",
   "nbconvert_exporter": "python",
   "pygments_lexer": "ipython3",
   "version": "3.8.8"
  },
  "toc": {
   "base_numbering": 1,
   "nav_menu": {},
   "number_sections": true,
   "sideBar": true,
   "skip_h1_title": false,
   "title_cell": "Table of Contents",
   "title_sidebar": "Contents",
   "toc_cell": false,
   "toc_position": {},
   "toc_section_display": true,
   "toc_window_display": false
  }
 },
 "nbformat": 4,
 "nbformat_minor": 4
}
