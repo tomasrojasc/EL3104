{
 "cells": [
  {
   "cell_type": "code",
   "execution_count": 1,
   "metadata": {
    "ExecuteTime": {
     "end_time": "2022-04-04T05:11:10.048524Z",
     "start_time": "2022-04-04T05:11:09.726726Z"
    }
   },
   "outputs": [],
   "source": [
    "import numpy as np"
   ]
  },
  {
   "cell_type": "code",
   "execution_count": 18,
   "metadata": {
    "ExecuteTime": {
     "end_time": "2022-04-04T05:15:58.850456Z",
     "start_time": "2022-04-04T05:15:58.746314Z"
    }
   },
   "outputs": [],
   "source": [
    "def toss_exp(n):\n",
    "    return np.random.randint(1, 6 + 1, (n, 5))"
   ]
  },
  {
   "cell_type": "code",
   "execution_count": 45,
   "metadata": {
    "ExecuteTime": {
     "end_time": "2022-04-04T05:22:55.496124Z",
     "start_time": "2022-04-04T05:22:55.474596Z"
    }
   },
   "outputs": [],
   "source": [
    "N = 100000\n",
    "experiment = toss_exp(N)"
   ]
  },
  {
   "cell_type": "code",
   "execution_count": 49,
   "metadata": {
    "ExecuteTime": {
     "end_time": "2022-04-04T05:24:16.632188Z",
     "start_time": "2022-04-04T05:24:16.615116Z"
    }
   },
   "outputs": [],
   "source": [
    "def count_all_dif(experiment):\n",
    "    N, _ = experiment.shape\n",
    "    count = 0\n",
    "    for i in range(N):\n",
    "        if len(np.unique(experiment[i, :]))==5:\n",
    "            count += 1\n",
    "    return count\n",
    "\n",
    "def count_all_equ(experiment):\n",
    "    N, _ = experiment.shape\n",
    "    count = 0\n",
    "    for i in range(N):\n",
    "        if len(np.unique(experiment[i, :]))==1:\n",
    "            count += 1\n",
    "    return count"
   ]
  },
  {
   "cell_type": "code",
   "execution_count": 47,
   "metadata": {
    "ExecuteTime": {
     "end_time": "2022-04-04T05:22:58.271487Z",
     "start_time": "2022-04-04T05:22:56.474506Z"
    }
   },
   "outputs": [
    {
     "data": {
      "text/plain": [
       "0.09235"
      ]
     },
     "execution_count": 47,
     "metadata": {},
     "output_type": "execute_result"
    }
   ],
   "source": [
    "count_all_dif(experiment) / N"
   ]
  },
  {
   "cell_type": "code",
   "execution_count": 48,
   "metadata": {
    "ExecuteTime": {
     "end_time": "2022-04-04T05:23:04.294359Z",
     "start_time": "2022-04-04T05:23:04.239482Z"
    }
   },
   "outputs": [
    {
     "data": {
      "text/plain": [
       "0.09259259259259256"
      ]
     },
     "execution_count": 48,
     "metadata": {},
     "output_type": "execute_result"
    }
   ],
   "source": [
    "np.math.factorial(6) * (1/6)**5"
   ]
  },
  {
   "cell_type": "code",
   "execution_count": 52,
   "metadata": {
    "ExecuteTime": {
     "end_time": "2022-04-04T05:25:12.684656Z",
     "start_time": "2022-04-04T05:25:10.902592Z"
    }
   },
   "outputs": [
    {
     "data": {
      "text/plain": [
       "0.00079"
      ]
     },
     "execution_count": 52,
     "metadata": {},
     "output_type": "execute_result"
    }
   ],
   "source": [
    "count_all_equ(experiment) / N"
   ]
  },
  {
   "cell_type": "code",
   "execution_count": 51,
   "metadata": {
    "ExecuteTime": {
     "end_time": "2022-04-04T05:25:02.894379Z",
     "start_time": "2022-04-04T05:25:02.878727Z"
    }
   },
   "outputs": [
    {
     "data": {
      "text/plain": [
       "0.0007716049382716048"
      ]
     },
     "execution_count": 51,
     "metadata": {},
     "output_type": "execute_result"
    }
   ],
   "source": [
    "(1/6)**4"
   ]
  },
  {
   "cell_type": "code",
   "execution_count": 56,
   "metadata": {
    "ExecuteTime": {
     "end_time": "2022-04-04T05:34:34.868489Z",
     "start_time": "2022-04-04T05:34:34.835689Z"
    }
   },
   "outputs": [],
   "source": [
    "experiment2 = np.random.randint(1, 6 + 1, (N,))"
   ]
  },
  {
   "cell_type": "code",
   "execution_count": 57,
   "metadata": {
    "ExecuteTime": {
     "end_time": "2022-04-04T05:34:36.396776Z",
     "start_time": "2022-04-04T05:34:36.384590Z"
    }
   },
   "outputs": [
    {
     "data": {
      "text/plain": [
       "array([[4, 5],\n",
       "       [2, 4],\n",
       "       [3, 1],\n",
       "       ...,\n",
       "       [4, 3],\n",
       "       [4, 2],\n",
       "       [1, 4]])"
      ]
     },
     "execution_count": 57,
     "metadata": {},
     "output_type": "execute_result"
    }
   ],
   "source": [
    "experiment2"
   ]
  },
  {
   "cell_type": "code",
   "execution_count": null,
   "metadata": {},
   "outputs": [],
   "source": []
  }
 ],
 "metadata": {
  "hide_input": false,
  "kernelspec": {
   "display_name": "Python 3",
   "language": "python",
   "name": "python3"
  },
  "language_info": {
   "codemirror_mode": {
    "name": "ipython",
    "version": 3
   },
   "file_extension": ".py",
   "mimetype": "text/x-python",
   "name": "python",
   "nbconvert_exporter": "python",
   "pygments_lexer": "ipython3",
   "version": "3.8.8"
  },
  "toc": {
   "base_numbering": 1,
   "nav_menu": {},
   "number_sections": true,
   "sideBar": true,
   "skip_h1_title": false,
   "title_cell": "Table of Contents",
   "title_sidebar": "Contents",
   "toc_cell": false,
   "toc_position": {},
   "toc_section_display": true,
   "toc_window_display": false
  }
 },
 "nbformat": 4,
 "nbformat_minor": 4
}
